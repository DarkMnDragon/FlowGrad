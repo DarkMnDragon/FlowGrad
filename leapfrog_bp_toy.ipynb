{
 "cells": [
  {
   "cell_type": "code",
   "execution_count": 19,
   "metadata": {},
   "outputs": [
    {
     "name": "stdout",
     "output_type": "stream",
     "text": [
      "tensor([0.7175, 3.6058, 2.5113], grad_fn=<AddBackward0>)\n",
      "tensor([2.4393, 5.5836, 2.1795], grad_fn=<AddBackward0>)\n",
      "tensor([2.0482, 6.0121, 3.6615], grad_fn=<AddBackward0>)\n",
      "tensor(11.7217, grad_fn=<SumBackward0>)\n",
      "Direct dz1: tensor([-0.0930,  0.8862, -0.0346])\n",
      "Direct dz3: tensor([-0.8729,  0.1267,  3.3168])\n",
      "loss_grad_z4:  tensor([1., 1., 1.])\n",
      "loss_grad_z3:  tensor([-0.8729,  0.1267,  3.3168], grad_fn=<AddBackward0>)\n",
      "loss_grad_z2:  tensor([0.0734, 0.0731, 3.8192], grad_fn=<AddBackward0>)\n",
      "z3_grad_z1:  tensor([[-0.7515, -0.1179,  0.7702],\n",
      "        [-1.3126, -0.3094,  3.8437],\n",
      "        [ 1.1913,  0.5539, -1.2972]])\n",
      "z3_grad_z1:  tensor([[1., 0., 0.],\n",
      "        [0., 1., 0.],\n",
      "        [0., 0., 1.]])\n",
      "z2_grad_z1:  tensor([[ 0.9736,  1.0203, -5.1229],\n",
      "        [ 0.4353, -0.0388, -3.4014],\n",
      "        [ 0.1771,  0.1800, -0.7139]])\n",
      "z3_grad_z2:  tensor([[-0.0891,  0.0555,  0.3105],\n",
      "        [-0.4423, -0.1510,  2.6987],\n",
      "        [-0.2859, -0.2591,  0.8286]])\n",
      "Reconstructed dz1: tensor([-0.0930,  0.8862, -0.0346])\n",
      "Reconstructed dz3: tensor([-0.8729,  0.1267,  3.3168])\n"
     ]
    }
   ],
   "source": [
    "import torch\n",
    "\n",
    "def f(x):\n",
    "    return torch.stack([\n",
    "        torch.abs(x[0] ** 2 + torch.sin(x[1]) - 5 * x[2] + 3).pow(0.3),\n",
    "        torch.abs(x[0] ** 1.6 + torch.cos(x[1]) - 8 * x[2] + 9).pow(0.7),\n",
    "        torch.abs(x[0] ** 1.8 + torch.tan(x[1]) - 4 * x[2] + 6).pow(0.4)\n",
    "    ])\n",
    "    # return 2 * x + 1\n",
    "\n",
    "z0 = torch.rand((3, ), requires_grad=True)\n",
    "z1 = torch.rand((3, ), requires_grad=True)\n",
    "\n",
    "z2 = z0 + f(z1)\n",
    "print(z2)\n",
    "z3 = z1 + f(z2)\n",
    "print(z3)\n",
    "z4 = z2 + f(z3)\n",
    "print(z4)\n",
    "\n",
    "loss = torch.sum(z4)\n",
    "# loss = torch.sum((z4 - 5) ** 3) + 1\n",
    "print(loss)\n",
    "\n",
    "# 直接计算dz1\n",
    "dz1 = torch.autograd.grad(loss, z1, retain_graph=True)[0]\n",
    "print(\"Direct dz1:\", dz1)\n",
    "\n",
    "dz3 = torch.autograd.grad(loss, z3, retain_graph=True)[0]\n",
    "print(\"Direct dz3:\", dz3)\n",
    "\n",
    "loss_grad_z4 = torch.autograd.grad(loss, z4, retain_graph=True, create_graph=True)[0]\n",
    "print(\"loss_grad_z4: \", loss_grad_z4)\n",
    "loss_grad_z3 = torch.autograd.grad(loss, z3, retain_graph=True, create_graph=True)[0]\n",
    "print(\"loss_grad_z3: \", loss_grad_z3)\n",
    "loss_grad_z2 = torch.autograd.grad(loss, z2, retain_graph=True, create_graph=True)[0]\n",
    "print(\"loss_grad_z2: \", loss_grad_z2)\n",
    "\n",
    "z4_grad_z3 = torch.autograd.functional.jacobian(lambda x: z2 + f(x), z3)\n",
    "print(\"z3_grad_z1: \", z4_grad_z3)\n",
    "z3_grad_z1 = torch.autograd.functional.jacobian(lambda x: x + f(z2), z1)\n",
    "print(\"z3_grad_z1: \", z3_grad_z1)\n",
    "z2_grad_z1 = torch.autograd.functional.jacobian(lambda x: z0 + f(x), z1)\n",
    "print(\"z2_grad_z1: \", z2_grad_z1)\n",
    "z3_grad_z2 = torch.autograd.functional.jacobian(lambda x: z1 + f(x), z2)\n",
    "print(\"z3_grad_z2: \", z3_grad_z2)\n",
    "\n",
    "# dz1_rec = loss_grad_z3 @ z3_grad_z1 + loss_grad_z2 @ z2_grad_z1  \n",
    "dz1_rec = torch.autograd.functional.vjp(lambda x: x, inputs=z1, v=loss_grad_z3)[1] +\\\n",
    "                 torch.autograd.functional.vjp(lambda x: f(x), inputs=z1, v=loss_grad_z2)[1]\n",
    "\n",
    "print(\"Reconstructed dz1:\", dz1_rec)\n",
    "\n",
    "dz3_rec = torch.autograd.functional.vjp(func=lambda x: f(x), inputs=z3, v=loss_grad_z4)[1]\n",
    "print(\"Reconstructed dz3:\", dz3_rec)\n"
   ]
  }
 ],
 "metadata": {
  "kernelspec": {
   "display_name": "learning",
   "language": "python",
   "name": "python3"
  },
  "language_info": {
   "codemirror_mode": {
    "name": "ipython",
    "version": 3
   },
   "file_extension": ".py",
   "mimetype": "text/x-python",
   "name": "python",
   "nbconvert_exporter": "python",
   "pygments_lexer": "ipython3",
   "version": "3.8.18"
  }
 },
 "nbformat": 4,
 "nbformat_minor": 2
}
